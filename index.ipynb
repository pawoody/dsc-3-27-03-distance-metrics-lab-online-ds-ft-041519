{
 "cells": [
  {
   "cell_type": "markdown",
   "metadata": {
    "toc": true
   },
   "source": [
    "<h1>Table of Contents<span class=\"tocSkip\"></span></h1>\n",
    "<div class=\"toc\"><ul class=\"toc-item\"><li><span><a href=\"#Distance-Metrics---Lab\" data-toc-modified-id=\"Distance-Metrics---Lab-1\"><span class=\"toc-item-num\">1&nbsp;&nbsp;</span>Distance Metrics - Lab</a></span><ul class=\"toc-item\"><li><span><a href=\"#Introduction\" data-toc-modified-id=\"Introduction-1.1\"><span class=\"toc-item-num\">1.1&nbsp;&nbsp;</span>Introduction</a></span></li><li><span><a href=\"#Objectives\" data-toc-modified-id=\"Objectives-1.2\"><span class=\"toc-item-num\">1.2&nbsp;&nbsp;</span>Objectives</a></span></li><li><span><a href=\"#Getting-Started\" data-toc-modified-id=\"Getting-Started-1.3\"><span class=\"toc-item-num\">1.3&nbsp;&nbsp;</span>Getting Started</a></span></li><li><span><a href=\"#How-These-Distance-Metrics-Are-Related\" data-toc-modified-id=\"How-These-Distance-Metrics-Are-Related-1.4\"><span class=\"toc-item-num\">1.4&nbsp;&nbsp;</span>How These Distance Metrics Are Related</a></span></li><li><span><a href=\"#Problem-1:\" data-toc-modified-id=\"Problem-1:-1.5\"><span class=\"toc-item-num\">1.5&nbsp;&nbsp;</span>Problem 1:</a></span></li><li><span><a href=\"#Problem-2:\" data-toc-modified-id=\"Problem-2:-1.6\"><span class=\"toc-item-num\">1.6&nbsp;&nbsp;</span>Problem 2:</a></span></li><li><span><a href=\"#Problem-3:\" data-toc-modified-id=\"Problem-3:-1.7\"><span class=\"toc-item-num\">1.7&nbsp;&nbsp;</span>Problem 3:</a></span></li><li><span><a href=\"#Summary\" data-toc-modified-id=\"Summary-1.8\"><span class=\"toc-item-num\">1.8&nbsp;&nbsp;</span>Summary</a></span></li></ul></li></ul></div>"
   ]
  },
  {
   "cell_type": "markdown",
   "metadata": {},
   "source": [
    "# Distance Metrics - Lab\n",
    "\n",
    "## Introduction\n",
    "\n",
    "In this lab, we'll calculate various distances between multiple points using the distance metrics we learned about!\n",
    "\n",
    "## Objectives\n",
    "\n",
    "You will be able to:\n",
    "\n",
    "* Calculate Euclidean Distance between 2 points\n",
    "* Calculate Manhattan Distance between 2 points\n",
    "* Compare and Contrast Manhattan, Euclidean, and Minkowski Distance\n",
    "\n",
    "## Getting Started\n",
    "\n",
    "To begin this lab, we'll start by writing a generalized function to calculate any of the three distance metrics we've learned about. Let's review what we know so far:\n",
    "\n",
    "## How These Distance Metrics Are Related\n",
    "\n",
    "Recall from the previous lesson that **_Manhattan Distance_** and **_Euclidean Distance_** are both just special cases of **_Minkowski Distance_**. Take a look at the formula for Minkowski Distance below:\n",
    "\n",
    "<img src='minkowski-equation.png' width='300px'>\n",
    "\n",
    "**_Manhattan Distance_** is a special case where $c=1$ in the equation above (which means that we can remove the root operation and just keep the summation).  \n",
    "\n",
    "**_Euclidean Distance_** is a special case where $c=2$ in the equation above.\n",
    "\n",
    "Knowing this, we can create a generalized `distance` function that just calculates minkowski distance, and takes in `c` as a parameter. That way, we can use the same function for every problem, and still calculate Manhattan and Euclidean distance metrics by just passing in the appropriate values for the `c` parameter!\n",
    "\n",
    "In the cell below:\n",
    "\n",
    "* Complete the `distance` function. \n",
    "* This function should take in 3 arguments:\n",
    "    * `a`, a tuple or array that describes a vector in n-dimensional space. \n",
    "    * `b`, a tuple or array that describes a vector in n-dimensional space (this must be the same length as `a`!)\n",
    "    * `c`, which tells us the norm to calculate the vector space (if set to `1`, the result will be Manhattan, while `2` will calculate Euclidean distance)\n",
    "* Since euclidean distance is the most common distance metric used, this function should default to using `c=2` if no value is set for `c`.\n",
    "* Include a parameter called `verbose` which is set to `True` by default. If true, the function should print out if the distance metric returned is a measurement of Manhattan, Euclidean, or Minkowski distance.  \n",
    "* This function should implement the minkowski distance equation above, and return the result. \n",
    "\n",
    "**_NOTE:_**  Remember that for Manhattan Distance, you need to make use of `np.abs()` to get the absolute value of the distance for each dimension, since we don't have the squaring function to make this positive for us!\n",
    "\n",
    "**_HINT:_** Use `np.power()` as an easy way to implement both squares and square roots. `np.power(a, 3)` will return the cube of `a`, while `np.power(a, 1/3)` will return the cube root of 3. For more information on this function, see the numpy [documentation](https://docs.scipy.org/doc/numpy-1.15.1/reference/generated/numpy.power.html)!"
   ]
  },
  {
   "cell_type": "code",
   "execution_count": 1,
   "metadata": {},
   "outputs": [
    {
     "name": "stdout",
     "output_type": "stream",
     "text": [
      "Calculating Euclidean D:\n",
      "5.0\n",
      "Calculating Manhattan D:\n",
      "7.0\n",
      "Calculating Minkowski D (c=3):\n",
      "4.497941445275415\n"
     ]
    }
   ],
   "source": [
    "import numpy as np\n",
    "\n",
    "# Complete this function! \n",
    "def distance(a, b, c=2, verbose=True):\n",
    "    if len(a)!=len(b):\n",
    "        raise ValueError(\"Both vectors must be of equal length\")\n",
    "        \n",
    "    root = 1/c\n",
    "    running_tot = 0\n",
    "    \n",
    "    if verbose:\n",
    "        if c==1:\n",
    "            print(\"Calculating Manhattan D:\")\n",
    "        elif c==2:\n",
    "            print(\"Calculating Euclidean D:\")\n",
    "        else:\n",
    "            print(\"Calculating Minkowski D (c={}):\".format(c))\n",
    "            \n",
    "    for ind, val_a in enumerate(a):\n",
    "        val_b = b[ind]\n",
    "        running_tot += np.power(np.abs(val_a-val_b),c)\n",
    "        \n",
    "    return np.power(running_tot, root)\n",
    "\n",
    "test_point_1 = (1, 2)\n",
    "test_point_2 = (4, 6)\n",
    "print(distance(test_point_1, test_point_2)) # Expected Output: 5.0\n",
    "print(distance(test_point_1, test_point_2, c=1)) # Expected Output: 7.0\n",
    "print(distance(test_point_1, test_point_2, c=3)) # Expected Output: 4.497941445275415"
   ]
  },
  {
   "cell_type": "markdown",
   "metadata": {},
   "source": [
    "Great job! \n",
    "\n",
    "Now, let's use the function so solve some practice problems.\n",
    "\n",
    "## Problem 1:\n",
    "\n",
    "Calculate the **_Euclidean Distance_** between the following points in 5-dimensional space:\n",
    "\n",
    "Point 1: (-2, -3.4, 4, 15, 7)\n",
    "\n",
    "Point 2: (3, -1.2, -2, -1, 7)"
   ]
  },
  {
   "cell_type": "code",
   "execution_count": 2,
   "metadata": {},
   "outputs": [
    {
     "name": "stdout",
     "output_type": "stream",
     "text": [
      "Calculating Euclidean D:\n",
      "17.939899665271266\n"
     ]
    }
   ],
   "source": [
    "print(distance((-2, -3.4, 4, 15, 7), (3, -1.2, -2, -1, 7)))\n",
    "# Expected Output: 17.939899665271266"
   ]
  },
  {
   "cell_type": "markdown",
   "metadata": {},
   "source": [
    "## Problem 2:\n",
    "\n",
    "Calculate the **_Manhattan Distance_** between the following points in 10-dimensional space:\n",
    "\n",
    "Point 1: \\[0, 0, 0, 7, 16, 2, 0, 1, 2, 1\\]  \n",
    "Point 2: \\[1, -1, 5, 7, 14, 3, -2, 3, 3, 6\\]"
   ]
  },
  {
   "cell_type": "code",
   "execution_count": 3,
   "metadata": {},
   "outputs": [
    {
     "name": "stdout",
     "output_type": "stream",
     "text": [
      "Calculating Manhattan D:\n",
      "20.0\n"
     ]
    }
   ],
   "source": [
    "print(distance( [0, 0, 0, 7, 16, 2, 0, 1, 2, 1],  [1, -1, 5, 7, 14, 3, -2, 3, 3, 6], c=1))\n",
    "# Expected Output: 20"
   ]
  },
  {
   "cell_type": "markdown",
   "metadata": {},
   "source": [
    "## Problem 3: \n",
    "\n",
    "Calculate the **_Minkowski Distance_** with a norm of 3.5 between the following points:\n",
    "\n",
    "Point 1: (-2, 7, 3.4)\n",
    "Point 2: (3, 4, 1.5)"
   ]
  },
  {
   "cell_type": "code",
   "execution_count": 4,
   "metadata": {},
   "outputs": [
    {
     "name": "stdout",
     "output_type": "stream",
     "text": [
      "Calculating Minkowski D (c=3.5):\n",
      "5.268789659188307\n"
     ]
    }
   ],
   "source": [
    "print(distance((-2, 7, 3.4), (3, 4, 1.5), c=3.5))\n",
    "# Expected Output: 5.268789659188307"
   ]
  },
  {
   "cell_type": "markdown",
   "metadata": {},
   "source": [
    "## Summary\n",
    "\n",
    "Great job! Now that we know how to calculate distance metrics, we can easily apply this to writing a K-Nearest Neighbors classifer from scratch!"
   ]
  }
 ],
 "metadata": {
  "kernelspec": {
   "display_name": "Python 3",
   "language": "python",
   "name": "python3"
  },
  "language_info": {
   "codemirror_mode": {
    "name": "ipython",
    "version": 3
   },
   "file_extension": ".py",
   "mimetype": "text/x-python",
   "name": "python",
   "nbconvert_exporter": "python",
   "pygments_lexer": "ipython3",
   "version": "3.6.6"
  },
  "toc": {
   "base_numbering": 1,
   "nav_menu": {},
   "number_sections": true,
   "sideBar": true,
   "skip_h1_title": false,
   "title_cell": "Table of Contents",
   "title_sidebar": "Contents",
   "toc_cell": true,
   "toc_position": {},
   "toc_section_display": true,
   "toc_window_display": false
  }
 },
 "nbformat": 4,
 "nbformat_minor": 2
}
